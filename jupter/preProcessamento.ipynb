{
 "cells": [
  {
   "cell_type": "code",
   "execution_count": 1,
   "metadata": {},
   "outputs": [],
   "source": [
    "from PIL import Image\n",
    "from numpy import asarray\n",
    "import os\n",
    "from PIL import ImageEnhance\n",
    "import numpy as np\n",
    "import pathlib\n",
    "from sklearn.model_selection import train_test_split\n",
    "import tensorflow as tf\n",
    "from tensorflow  import keras \n",
    "import matplotlib.pyplot as pl\n",
    "import pandas as pd "
   ]
  },
  {
   "cell_type": "code",
   "execution_count": 6,
   "metadata": {},
   "outputs": [],
   "source": [
    "# Checando o diretorio de imagens   \n",
    "# Metodo para devolver o caminho completo das imagens\n",
    "def getListCaminho(dir):\n",
    "    list = []\n",
    "    for pastaAtual, subPastas, arquivos in os.walk(dir):\n",
    "        for item in arquivos:\n",
    "            list.append(item)\n",
    "    return list\n",
    "\n",
    "def dirFontes(dir_raiz):\n",
    "    arrRetorno = [] \n",
    "    for pastaAtual, subPastas, arquivos in os.walk(dir_raiz):\n",
    "        for item in subPastas:\n",
    "            if not os.path.exists(dir_raiz+\"temp/\"+item) and item != \"analise\" and item != \"temp\" :\n",
    "                os.makedirs(dir_raiz+\"temp/\"+item)\n",
    "            if item != \"analise\" and item != \"temp\":\n",
    "                arrRetorno.append(item) \n",
    "    return arrRetorno\n",
    "\n",
    "# Retorna o tamanho da primeira imagem para redimensionar as demais\n",
    "def getSize(arquivo):\n",
    "    imgp = Image.open(arquivo)\n",
    "    largura = imgp.size[1]\n",
    "    altura = imgp.size[0]\n",
    "    r = largura / altura\n",
    "    dim = (altura, int(largura * r))\n",
    "    return dim\n",
    "    "
   ]
  },
  {
   "cell_type": "code",
   "execution_count": 3,
   "metadata": {},
   "outputs": [],
   "source": [
    "def preProcess(dir_atu,arquivo, dir_temp,dim):\n",
    "        # Carregar imagem\n",
    "        imgp = Image.open(dir_atu+arquivo)\n",
    "\n",
    "        # Escala de sinza\n",
    "        gray = imgp.convert(\"L\")\n",
    "\n",
    "        # Melhorar o contraste\n",
    "        contrast = ImageEnhance.Brightness(gray)\n",
    "        gray = contrast.enhance(1)\n",
    "\n",
    "        # Melhorar o Brilho\n",
    "        brilho = ImageEnhance.Contrast(gray)\n",
    "        gray = brilho.enhance(5)\n",
    "        \n",
    "        # padronizar tamanho da imagem\n",
    "        newFile = gray.resize(dim, Image.ANTIALIAS)\n",
    "\n",
    "        # Gerar nome doarquivo temporario\n",
    "        nom_temp = dir_temp+arquivo\n",
    "\n",
    "        # Salvar imagem\n",
    "        if not os.path.exists(nom_temp):\n",
    "            newFile.save(nom_temp)"
   ]
  },
  {
   "cell_type": "code",
   "execution_count": 14,
   "metadata": {},
   "outputs": [
    {
     "name": "stderr",
     "output_type": "stream",
     "text": [
      "C:\\Users\\Leandro-Brito\\Anaconda3\\lib\\site-packages\\PIL\\Image.py:2860: UserWarning: image file could not be identified because WEBP support not installed\n",
      "  warnings.warn(message)\n"
     ]
    },
    {
     "ename": "UnidentifiedImageError",
     "evalue": "cannot identify image file 'imagem/CNH_ABERTA/12.webp'",
     "output_type": "error",
     "traceback": [
      "\u001b[1;31m---------------------------------------------------------------------------\u001b[0m",
      "\u001b[1;31mUnidentifiedImageError\u001b[0m                    Traceback (most recent call last)",
      "\u001b[1;32m<ipython-input-14-f3cc11746ce6>\u001b[0m in \u001b[0;36m<module>\u001b[1;34m\u001b[0m\n\u001b[0;32m     18\u001b[0m         \u001b[0mfil_Size\u001b[0m \u001b[1;33m=\u001b[0m \u001b[0mgetSize\u001b[0m\u001b[1;33m(\u001b[0m\u001b[0marquico\u001b[0m\u001b[1;33m)\u001b[0m\u001b[1;33m\u001b[0m\u001b[1;33m\u001b[0m\u001b[0m\n\u001b[0;32m     19\u001b[0m     \u001b[1;32mfor\u001b[0m \u001b[0mfile\u001b[0m \u001b[1;32min\u001b[0m \u001b[0mfiles\u001b[0m\u001b[1;33m:\u001b[0m\u001b[1;33m\u001b[0m\u001b[1;33m\u001b[0m\u001b[0m\n\u001b[1;32m---> 20\u001b[1;33m         \u001b[0mpreProcess\u001b[0m\u001b[1;33m(\u001b[0m\u001b[0mdata_dir\u001b[0m\u001b[1;33m+\u001b[0m\u001b[0mdiretorio\u001b[0m\u001b[1;33m+\u001b[0m\u001b[1;34m\"/\"\u001b[0m\u001b[1;33m,\u001b[0m\u001b[0mfile\u001b[0m\u001b[1;33m,\u001b[0m\u001b[0mdata_dir\u001b[0m\u001b[1;33m+\u001b[0m\u001b[1;34m\"temp/\"\u001b[0m\u001b[1;33m+\u001b[0m\u001b[0mdiretorio\u001b[0m\u001b[1;33m+\u001b[0m\u001b[1;34m\"/\"\u001b[0m\u001b[1;33m,\u001b[0m\u001b[0mfil_Size\u001b[0m\u001b[1;33m)\u001b[0m\u001b[1;33m\u001b[0m\u001b[1;33m\u001b[0m\u001b[0m\n\u001b[0m",
      "\u001b[1;32m<ipython-input-3-3d6bad67b6a7>\u001b[0m in \u001b[0;36mpreProcess\u001b[1;34m(dir_atu, arquivo, dir_temp, dim)\u001b[0m\n\u001b[0;32m      1\u001b[0m \u001b[1;32mdef\u001b[0m \u001b[0mpreProcess\u001b[0m\u001b[1;33m(\u001b[0m\u001b[0mdir_atu\u001b[0m\u001b[1;33m,\u001b[0m\u001b[0marquivo\u001b[0m\u001b[1;33m,\u001b[0m \u001b[0mdir_temp\u001b[0m\u001b[1;33m,\u001b[0m\u001b[0mdim\u001b[0m\u001b[1;33m)\u001b[0m\u001b[1;33m:\u001b[0m\u001b[1;33m\u001b[0m\u001b[1;33m\u001b[0m\u001b[0m\n\u001b[0;32m      2\u001b[0m         \u001b[1;31m# Carregar imagem\u001b[0m\u001b[1;33m\u001b[0m\u001b[1;33m\u001b[0m\u001b[1;33m\u001b[0m\u001b[0m\n\u001b[1;32m----> 3\u001b[1;33m         \u001b[0mimgp\u001b[0m \u001b[1;33m=\u001b[0m \u001b[0mImage\u001b[0m\u001b[1;33m.\u001b[0m\u001b[0mopen\u001b[0m\u001b[1;33m(\u001b[0m\u001b[0mdir_atu\u001b[0m\u001b[1;33m+\u001b[0m\u001b[0marquivo\u001b[0m\u001b[1;33m)\u001b[0m\u001b[1;33m\u001b[0m\u001b[1;33m\u001b[0m\u001b[0m\n\u001b[0m\u001b[0;32m      4\u001b[0m \u001b[1;33m\u001b[0m\u001b[0m\n\u001b[0;32m      5\u001b[0m         \u001b[1;31m# Escala de sinza\u001b[0m\u001b[1;33m\u001b[0m\u001b[1;33m\u001b[0m\u001b[1;33m\u001b[0m\u001b[0m\n",
      "\u001b[1;32m~\\Anaconda3\\lib\\site-packages\\PIL\\Image.py\u001b[0m in \u001b[0;36mopen\u001b[1;34m(fp, mode)\u001b[0m\n\u001b[0;32m   2860\u001b[0m         \u001b[0mwarnings\u001b[0m\u001b[1;33m.\u001b[0m\u001b[0mwarn\u001b[0m\u001b[1;33m(\u001b[0m\u001b[0mmessage\u001b[0m\u001b[1;33m)\u001b[0m\u001b[1;33m\u001b[0m\u001b[1;33m\u001b[0m\u001b[0m\n\u001b[0;32m   2861\u001b[0m     raise UnidentifiedImageError(\n\u001b[1;32m-> 2862\u001b[1;33m         \u001b[1;34m\"cannot identify image file %r\"\u001b[0m \u001b[1;33m%\u001b[0m \u001b[1;33m(\u001b[0m\u001b[0mfilename\u001b[0m \u001b[1;32mif\u001b[0m \u001b[0mfilename\u001b[0m \u001b[1;32melse\u001b[0m \u001b[0mfp\u001b[0m\u001b[1;33m)\u001b[0m\u001b[1;33m\u001b[0m\u001b[1;33m\u001b[0m\u001b[0m\n\u001b[0m\u001b[0;32m   2863\u001b[0m     )\n\u001b[0;32m   2864\u001b[0m \u001b[1;33m\u001b[0m\u001b[0m\n",
      "\u001b[1;31mUnidentifiedImageError\u001b[0m: cannot identify image file 'imagem/CNH_ABERTA/12.webp'"
     ]
    }
   ],
   "source": [
    "# Checando quantidade de arquivos antes do processamento     \n",
    "data_dir = \"imagem/\"\n",
    "data_dir = pathlib.Path(data_dir) \n",
    "image_countPre = len(list(data_dir.glob('*/*.jpg')))\n",
    "\n",
    "\n",
    "\n",
    "data_dir = \"imagem/\"\n",
    "diretorios = dirFontes(data_dir) \n",
    "\n",
    "\n",
    "\n",
    "for diretorio in diretorios:\n",
    "    files = getListCaminho(data_dir+diretorio+\"/\") \n",
    "    extensao = files[0].split(\".\")\n",
    "    if extensao[1].lower() in [\"jpg\",\"png\"]:\n",
    "        arquico = data_dir+diretorio+\"/\"+files[0]\n",
    "        fil_Size = getSize(arquico)\n",
    "    for file in files:\n",
    "        preProcess(data_dir+diretorio+\"/\",file,data_dir+\"temp/\"+diretorio+\"/\",fil_Size)\n"
   ]
  },
  {
   "cell_type": "code",
   "execution_count": 56,
   "metadata": {},
   "outputs": [
    {
     "name": "stdout",
     "output_type": "stream",
     "text": [
      "Antes 117  adicionado 117\n"
     ]
    }
   ],
   "source": [
    "# Checando quantidade de arquivos apos do processamento      \n",
    "data_dir = \"imagem/temp/\"\n",
    "data_dir = pathlib.Path(data_dir) \n",
    "image_countPos = len(list(data_dir.glob('*/*.jpg')))\n",
    "print(\"Antes {}  adicionado {}\".format(image_countPre,image_countPos))"
   ]
  },
  {
   "cell_type": "code",
   "execution_count": 18,
   "metadata": {},
   "outputs": [
    {
     "name": "stderr",
     "output_type": "stream",
     "text": [
      "ERROR: Could not find a version that satisfies the requirement warnings\n",
      "ERROR: No matching distribution found for warnings\n"
     ]
    }
   ],
   "source": [
    "!pip install warnings"
   ]
  },
  {
   "cell_type": "code",
   "execution_count": null,
   "metadata": {},
   "outputs": [],
   "source": []
  }
 ],
 "metadata": {
  "kernelspec": {
   "display_name": "Python 3",
   "language": "python",
   "name": "python3"
  },
  "language_info": {
   "codemirror_mode": {
    "name": "ipython",
    "version": 3
   },
   "file_extension": ".py",
   "mimetype": "text/x-python",
   "name": "python",
   "nbconvert_exporter": "python",
   "pygments_lexer": "ipython3",
   "version": "3.7.6"
  }
 },
 "nbformat": 4,
 "nbformat_minor": 4
}
