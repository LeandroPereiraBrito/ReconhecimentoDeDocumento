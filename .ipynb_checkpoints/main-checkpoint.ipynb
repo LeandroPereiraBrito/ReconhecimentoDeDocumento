{
 "cells": [
  {
   "cell_type": "code",
   "execution_count": 1,
   "metadata": {},
   "outputs": [],
   "source": [
    "import matplotlib.pyplot as plt\n",
    "import numpy as np\n",
    "import os\n",
    "import PIL\n",
    "import tensorflow as tf\n",
    "import pathlib\n",
    "from tensorflow import keras\n",
    "from tensorflow.keras import layers\n",
    "from tensorflow.keras.models import Sequential"
   ]
  },
  {
   "cell_type": "code",
   "execution_count": 4,
   "metadata": {},
   "outputs": [
    {
     "name": "stdout",
     "output_type": "stream",
     "text": [
      "3670\n"
     ]
    }
   ],
   "source": [
    "# Checando o diretorio de imagens   \n",
    "data_dir = \"imagem/flower_photos/\"\n",
    "data_dir = pathlib.Path(data_dir) \n",
    "image_count = len(list(data_dir.glob('*/*.jpg')))\n",
    "print(image_count)"
   ]
  },
  {
   "cell_type": "code",
   "execution_count": 6,
   "metadata": {},
   "outputs": [],
   "source": [
    "# parâmetros para o carregador:\n",
    "batch_size = 32\n",
    "img_height = 180\n",
    "img_width = 180 "
   ]
  },
  {
   "cell_type": "code",
   "execution_count": 7,
   "metadata": {},
   "outputs": [
    {
     "name": "stdout",
     "output_type": "stream",
     "text": [
      "Found 3670 files belonging to 5 classes.\n",
      "Using 2936 files for training.\n"
     ]
    }
   ],
   "source": [
    "# Validação de dados de treino\n",
    "train_ds = tf.keras.preprocessing.image_dataset_from_directory(\n",
    "  data_dir,\n",
    "  validation_split=0.2,\n",
    "  subset=\"training\",\n",
    "  seed=123,\n",
    "  image_size=(img_height, img_width),\n",
    "  batch_size=batch_size)"
   ]
  },
  {
   "cell_type": "code",
   "execution_count": 8,
   "metadata": {},
   "outputs": [
    {
     "name": "stdout",
     "output_type": "stream",
     "text": [
      "Found 3670 files belonging to 5 classes.\n",
      "Using 734 files for validation.\n"
     ]
    }
   ],
   "source": [
    "# Validação de dados \n",
    "val_ds = tf.keras.preprocessing.image_dataset_from_directory(\n",
    "  data_dir,\n",
    "  validation_split=0.2,\n",
    "  subset=\"validation\",\n",
    "  seed=123,\n",
    "  image_size=(img_height, img_width),\n",
    "  batch_size=batch_size)"
   ]
  },
  {
   "cell_type": "code",
   "execution_count": 9,
   "metadata": {},
   "outputs": [
    {
     "name": "stdout",
     "output_type": "stream",
     "text": [
      "['daisy', 'dandelion', 'roses', 'sunflowers', 'tulips']\n"
     ]
    }
   ],
   "source": [
    "class_names = train_ds.class_names\n",
    "print(class_names)"
   ]
  },
  {
   "cell_type": "code",
   "execution_count": 10,
   "metadata": {},
   "outputs": [],
   "source": [
    "normalization_layer = layers.experimental.preprocessing.Rescaling(1./255) "
   ]
  },
  {
   "cell_type": "code",
   "execution_count": 12,
   "metadata": {},
   "outputs": [],
   "source": [
    "#Alterar aqui"
   ]
  },
  {
   "cell_type": "code",
   "execution_count": 17,
   "metadata": {},
   "outputs": [],
   "source": [
    "data_augmentation = keras.Sequential(\n",
    "  [\n",
    "    layers.experimental.preprocessing.RandomFlip(\"horizontal\", \n",
    "                                                 input_shape=(img_height, \n",
    "                                                              img_width,\n",
    "                                                              3)),\n",
    "    layers.experimental.preprocessing.RandomRotation(0.1),\n",
    "    layers.experimental.preprocessing.RandomZoom(0.1),\n",
    "  ]\n",
    ")"
   ]
  },
  {
   "cell_type": "code",
   "execution_count": 19,
   "metadata": {},
   "outputs": [],
   "source": [
    "# Criar modelo\n",
    "num_classes = 5\n",
    "model = Sequential([\n",
    "  data_augmentation,\n",
    "  layers.experimental.preprocessing.Rescaling(1./255),\n",
    "  layers.Conv2D(16, 3, padding='same', activation='relu'),\n",
    "  layers.MaxPooling2D(),\n",
    "  layers.Conv2D(32, 3, padding='same', activation='relu'),\n",
    "  layers.MaxPooling2D(),\n",
    "  layers.Conv2D(64, 3, padding='same', activation='relu'),\n",
    "  layers.MaxPooling2D(),\n",
    "  layers.Dropout(0.2),\n",
    "  layers.Flatten(),\n",
    "  layers.Dense(128, activation='relu'),\n",
    "  layers.Dense(num_classes)\n",
    "])"
   ]
  },
  {
   "cell_type": "code",
   "execution_count": 20,
   "metadata": {},
   "outputs": [],
   "source": [
    "# Compilar o modelo  \n",
    "model.compile(optimizer='adam',loss=tf.keras.losses.SparseCategoricalCrossentropy(from_logits=True),metrics=['accuracy'])"
   ]
  },
  {
   "cell_type": "code",
   "execution_count": 21,
   "metadata": {},
   "outputs": [
    {
     "name": "stdout",
     "output_type": "stream",
     "text": [
      "Epoch 1/15\n",
      "92/92 [==============================] - 73s 771ms/step - loss: 1.3303 - accuracy: 0.4246 - val_loss: 1.0564 - val_accuracy: 0.5804\n",
      "Epoch 2/15\n",
      "92/92 [==============================] - 71s 759ms/step - loss: 1.0333 - accuracy: 0.5781 - val_loss: 1.0229 - val_accuracy: 0.6240\n",
      "Epoch 3/15\n",
      "92/92 [==============================] - 70s 759ms/step - loss: 0.9174 - accuracy: 0.6456 - val_loss: 0.9264 - val_accuracy: 0.6485\n",
      "Epoch 4/15\n",
      "92/92 [==============================] - 69s 741ms/step - loss: 0.8545 - accuracy: 0.6715 - val_loss: 0.8614 - val_accuracy: 0.6621\n",
      "Epoch 5/15\n",
      "92/92 [==============================] - 67s 725ms/step - loss: 0.7936 - accuracy: 0.7000 - val_loss: 0.8350 - val_accuracy: 0.6880\n",
      "Epoch 6/15\n",
      "92/92 [==============================] - 67s 718ms/step - loss: 0.7694 - accuracy: 0.7013 - val_loss: 0.7699 - val_accuracy: 0.7139\n",
      "Epoch 7/15\n",
      "92/92 [==============================] - 69s 740ms/step - loss: 0.7287 - accuracy: 0.7261 - val_loss: 0.7685 - val_accuracy: 0.6826\n",
      "Epoch 8/15\n",
      "92/92 [==============================] - 70s 756ms/step - loss: 0.6858 - accuracy: 0.7434 - val_loss: 0.9005 - val_accuracy: 0.6635\n",
      "Epoch 9/15\n",
      "92/92 [==============================] - 70s 751ms/step - loss: 0.6904 - accuracy: 0.7373 - val_loss: 0.7782 - val_accuracy: 0.7003\n",
      "Epoch 10/15\n",
      "92/92 [==============================] - 68s 735ms/step - loss: 0.6586 - accuracy: 0.7435 - val_loss: 0.7078 - val_accuracy: 0.7221\n",
      "Epoch 11/15\n",
      "92/92 [==============================] - 69s 747ms/step - loss: 0.6070 - accuracy: 0.7706 - val_loss: 0.7560 - val_accuracy: 0.7125\n",
      "Epoch 12/15\n",
      "92/92 [==============================] - 71s 764ms/step - loss: 0.5770 - accuracy: 0.7832 - val_loss: 0.6981 - val_accuracy: 0.7207\n",
      "Epoch 13/15\n",
      "92/92 [==============================] - 69s 744ms/step - loss: 0.5552 - accuracy: 0.7863 - val_loss: 0.6857 - val_accuracy: 0.7411\n",
      "Epoch 14/15\n",
      "92/92 [==============================] - 67s 719ms/step - loss: 0.5146 - accuracy: 0.8025 - val_loss: 0.7213 - val_accuracy: 0.7234\n",
      "Epoch 15/15\n",
      "92/92 [==============================] - 67s 723ms/step - loss: 0.5213 - accuracy: 0.8028 - val_loss: 0.8105 - val_accuracy: 0.7030\n"
     ]
    }
   ],
   "source": [
    "# Treinar o modelo \n",
    "epochs = 15\n",
    "history = model.fit( train_ds, validation_data=val_ds, epochs=epochs)"
   ]
  },
  {
   "cell_type": "code",
   "execution_count": 22,
   "metadata": {},
   "outputs": [
    {
     "data": {
      "text/plain": [
       "Text(0.5, 1.0, 'Training and Validation Loss')"
      ]
     },
     "execution_count": 22,
     "metadata": {},
     "output_type": "execute_result"
    },
    {
     "data": {
      "image/png": "[encoded data removed]",
      "text/plain": [
       "<Figure size 576x576 with 2 Axes>"
      ]
     },
     "metadata": {
      "needs_background": "light"
     },
     "output_type": "display_data"
    }
   ],
   "source": [
    "acc = history.history['accuracy']\n",
    "val_acc = history.history['val_accuracy']\n",
    "\n",
    "loss = history.history['loss']\n",
    "val_loss = history.history['val_loss']\n",
    "\n",
    "epochs_range = range(epochs)\n",
    "\n",
    "plt.figure(figsize=(8, 8))\n",
    "plt.subplot(1, 2, 1)\n",
    "plt.plot(epochs_range, acc, label='Training Accuracy')\n",
    "plt.plot(epochs_range, val_acc, label='Validation Accuracy')\n",
    "plt.legend(loc='lower right')\n",
    "plt.title('Training and Validation Accuracy')\n",
    "\n",
    "plt.subplot(1, 2, 2)\n",
    "plt.plot(epochs_range, loss, label='Training Loss')\n",
    "plt.plot(epochs_range, val_loss, label='Validation Loss')\n",
    "plt.legend(loc='upper right')\n",
    "plt.title('Training and Validation Loss')\n"
   ]
  },
  {
   "cell_type": "code",
   "execution_count": 25,
   "metadata": {},
   "outputs": [],
   "source": [
    "sunflower_path = \"imagem/analise/analise.jpg\"\n",
    "\n",
    "img = keras.preprocessing.image.load_img(\n",
    "    sunflower_path, target_size=(img_height, img_width)\n",
    ")\n",
    "img_array = keras.preprocessing.image.img_to_array(img)\n",
    "img_array = tf.expand_dims(img_array, 0) # Create a batch\n",
    "\n",
    "predictions = model.predict(img_array)\n",
    "score = tf.nn.softmax(predictions[0])\n",
    "\n"
   ]
  },
  {
   "cell_type": "code",
   "execution_count": 26,
   "metadata": {},
   "outputs": [
    {
     "name": "stdout",
     "output_type": "stream",
     "text": [
      "This image most likely belongs to tulips with a 96.46 percent confidence.\n"
     ]
    }
   ],
   "source": [
    "print(\"This image most likely belongs to {} with a {:.2f} percent confidence.\"\n",
    "      .format(class_names[np.argmax(score)], 100 * np.max(score))\n",
    "   )"
   ]
  },
  {
   "cell_type": "code",
   "execution_count": null,
   "metadata": {},
   "outputs": [],
   "source": []
  }
 ],
 "metadata": {
  "kernelspec": {
   "display_name": "Python 3",
   "language": "python",
   "name": "python3"
  },
  "language_info": {
   "codemirror_mode": {
    "name": "ipython",
    "version": 3
   },
   "file_extension": ".py",
   "mimetype": "text/x-python",
   "name": "python",
   "nbconvert_exporter": "python",
   "pygments_lexer": "ipython3",
   "version": "3.7.6"
  }
 },
 "nbformat": 4,
 "nbformat_minor": 4
}
