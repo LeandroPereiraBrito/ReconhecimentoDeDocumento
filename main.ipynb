{
 "cells": [
  {
   "cell_type": "code",
   "execution_count": 166,
   "metadata": {},
   "outputs": [],
   "source": [
    "import matplotlib.pyplot as plt\n",
    "import numpy as np\n",
    "import os\n",
    "import PIL\n",
    "import tensorflow as tf\n",
    "import pathlib\n",
    "from tensorflow import keras\n",
    "from tensorflow.keras import layers\n",
    "from tensorflow.keras.models import Sequential"
   ]
  },
  {
   "cell_type": "code",
   "execution_count": 167,
   "metadata": {},
   "outputs": [
    {
     "name": "stdout",
     "output_type": "stream",
     "text": [
      "0\n"
     ]
    }
   ],
   "source": [
    "# Checando o diretorio de imagens   \n",
    "data_dir = \"imagem/\"\n",
    "data_dir = pathlib.Path(data_dir) \n",
    "image_count = len(list(data_dir.glob('*/*.jpg')))\n",
    "print(image_count)"
   ]
  },
  {
   "cell_type": "code",
   "execution_count": 168,
   "metadata": {},
   "outputs": [],
   "source": [
    "# parâmetros para o carregador:\n",
    "batch_size = 32\n",
    "img_height = 180\n",
    "img_width = 180 "
   ]
  },
  {
   "cell_type": "code",
   "execution_count": 169,
   "metadata": {},
   "outputs": [
    {
     "name": "stdout",
     "output_type": "stream",
     "text": [
      "Found 526 files belonging to 6 classes.\n",
      "Using 421 files for training.\n"
     ]
    }
   ],
   "source": [
    "# Validação de dados de treino\n",
    "train_ds = tf.keras.preprocessing.image_dataset_from_directory(\n",
    "  data_dir,\n",
    "  validation_split=0.2,\n",
    "  subset=\"training\",\n",
    "  seed=123,\n",
    "  image_size=(img_height, img_width),\n",
    "  batch_size=batch_size)"
   ]
  },
  {
   "cell_type": "code",
   "execution_count": 170,
   "metadata": {},
   "outputs": [
    {
     "name": "stdout",
     "output_type": "stream",
     "text": [
      "Found 526 files belonging to 6 classes.\n",
      "Using 105 files for validation.\n"
     ]
    }
   ],
   "source": [
    "# Validação de dados \n",
    "val_ds = tf.keras.preprocessing.image_dataset_from_directory(\n",
    "  data_dir,\n",
    "  validation_split=0.2,\n",
    "  subset=\"validation\",\n",
    "  seed=123,\n",
    "  image_size=(img_height, img_width),\n",
    "  batch_size=batch_size)"
   ]
  },
  {
   "cell_type": "code",
   "execution_count": 171,
   "metadata": {},
   "outputs": [
    {
     "name": "stdout",
     "output_type": "stream",
     "text": [
      "['CNH_ABERTA', 'CNH_Fechado', 'Identidade Dois LAdos', 'Identidade_LadoFoto', 'Identidade_dados', 'temp']\n"
     ]
    }
   ],
   "source": [
    "class_names = train_ds.class_names\n",
    "print(class_names)"
   ]
  },
  {
   "cell_type": "code",
   "execution_count": 172,
   "metadata": {},
   "outputs": [],
   "source": [
    "normalization_layer = layers.experimental.preprocessing.Rescaling(1./255) "
   ]
  },
  {
   "cell_type": "code",
   "execution_count": 173,
   "metadata": {},
   "outputs": [],
   "source": [
    "#Alterar aqui"
   ]
  },
  {
   "cell_type": "code",
   "execution_count": 174,
   "metadata": {},
   "outputs": [],
   "source": [
    "data_augmentation = keras.Sequential(\n",
    "  [\n",
    "    layers.experimental.preprocessing.RandomFlip(\"horizontal\", \n",
    "                                                 input_shape=(img_height, \n",
    "                                                              img_width,\n",
    "                                                              3)),\n",
    "    layers.experimental.preprocessing.RandomRotation(0.1),\n",
    "    layers.experimental.preprocessing.RandomZoom(0.1),\n",
    "  ]\n",
    ")"
   ]
  },
  {
   "cell_type": "code",
   "execution_count": 175,
   "metadata": {},
   "outputs": [],
   "source": [
    "# Criar modelo\n",
    "num_classes = 5\n",
    "model = Sequential([\n",
    "  data_augmentation,\n",
    "  layers.experimental.preprocessing.Rescaling(1./255),\n",
    "  layers.Conv2D(16, 3, padding='same', activation='relu'),\n",
    "  layers.MaxPooling2D(),\n",
    "  layers.Conv2D(32, 3, padding='same', activation='relu'),\n",
    "  layers.MaxPooling2D(),\n",
    "  layers.Conv2D(64, 3, padding='same', activation='relu'),\n",
    "  layers.MaxPooling2D(),\n",
    "  layers.Dropout(0.2),\n",
    "  layers.Flatten(),\n",
    "  layers.Dense(128, activation='relu'),\n",
    "  layers.Dense(num_classes)\n",
    "])"
   ]
  },
  {
   "cell_type": "code",
   "execution_count": 176,
   "metadata": {},
   "outputs": [],
   "source": [
    "# Compilar o modelo  \n",
    "model.compile(optimizer='adam',loss=tf.keras.losses.SparseCategoricalCrossentropy(from_logits=True),metrics=['accuracy'])"
   ]
  },
  {
   "cell_type": "code",
   "execution_count": 177,
   "metadata": {},
   "outputs": [
    {
     "name": "stdout",
     "output_type": "stream",
     "text": [
      "Epoch 1/15\n",
      "14/14 [==============================] - 11s 666ms/step - loss: 1.9928 - accuracy: 0.1762 - val_loss: 1.6039 - val_accuracy: 0.1524\n",
      "Epoch 2/15\n",
      "14/14 [==============================] - 10s 660ms/step - loss: 1.5893 - accuracy: 0.2625 - val_loss: 1.4526 - val_accuracy: 0.3238\n",
      "Epoch 3/15\n",
      "14/14 [==============================] - 10s 656ms/step - loss: 1.4047 - accuracy: 0.4807 - val_loss: 1.2980 - val_accuracy: 0.5048\n",
      "Epoch 4/15\n",
      "14/14 [==============================] - 10s 650ms/step - loss: 1.2371 - accuracy: 0.5299 - val_loss: 1.1009 - val_accuracy: 0.7143\n",
      "Epoch 5/15\n",
      "14/14 [==============================] - 10s 656ms/step - loss: 1.0242 - accuracy: 0.6370 - val_loss: 0.9304 - val_accuracy: 0.6952\n",
      "Epoch 6/15\n",
      "14/14 [==============================] - 10s 660ms/step - loss: 0.9122 - accuracy: 0.6699 - val_loss: 0.8763 - val_accuracy: 0.7429\n",
      "Epoch 7/15\n",
      "14/14 [==============================] - 10s 661ms/step - loss: 0.8368 - accuracy: 0.7281 - val_loss: 1.2973 - val_accuracy: 0.5905\n",
      "Epoch 8/15\n",
      "14/14 [==============================] - 10s 662ms/step - loss: 0.7582 - accuracy: 0.7396 - val_loss: 1.3277 - val_accuracy: 0.5143\n",
      "Epoch 9/15\n",
      "14/14 [==============================] - 10s 664ms/step - loss: 0.6569 - accuracy: 0.7524 - val_loss: 0.7420 - val_accuracy: 0.7429\n",
      "Epoch 10/15\n",
      "14/14 [==============================] - 10s 657ms/step - loss: 0.4354 - accuracy: 0.8791 - val_loss: 0.6123 - val_accuracy: 0.7905\n",
      "Epoch 11/15\n",
      "14/14 [==============================] - 10s 670ms/step - loss: 0.5410 - accuracy: 0.7992 - val_loss: 0.6181 - val_accuracy: 0.8571\n",
      "Epoch 12/15\n",
      "14/14 [==============================] - 10s 657ms/step - loss: 0.5280 - accuracy: 0.8054 - val_loss: 0.5462 - val_accuracy: 0.8286\n",
      "Epoch 13/15\n",
      "14/14 [==============================] - 10s 680ms/step - loss: 0.3699 - accuracy: 0.8658 - val_loss: 0.5478 - val_accuracy: 0.8190\n",
      "Epoch 14/15\n",
      "14/14 [==============================] - 10s 651ms/step - loss: 0.4394 - accuracy: 0.8677 - val_loss: 0.5582 - val_accuracy: 0.8286\n",
      "Epoch 15/15\n",
      "14/14 [==============================] - 10s 674ms/step - loss: 0.3328 - accuracy: 0.8944 - val_loss: 0.5619 - val_accuracy: 0.8476\n"
     ]
    }
   ],
   "source": [
    "# Treinar o modelo \n",
    "epochs = 15\n",
    "history = model.fit( train_ds, validation_data=val_ds, epochs=epochs)\n"
   ]
  },
  {
   "cell_type": "code",
   "execution_count": 185,
   "metadata": {},
   "outputs": [],
   "source": [
    "# Salvaro modelo  \n",
    "model.save(\"modeloImagens.h5\")"
   ]
  },
  {
   "cell_type": "code",
   "execution_count": 179,
   "metadata": {},
   "outputs": [
    {
     "data": {
      "text/plain": [
       "Text(0.5, 1.0, 'Training and Validation Loss')"
      ]
     },
     "execution_count": 179,
     "metadata": {},
     "output_type": "execute_result"
    },
    {
     "data": {
      "image/png": "[encoded data removed]",
      "text/plain": [
       "<Figure size 576x576 with 2 Axes>"
      ]
     },
     "metadata": {
      "needs_background": "light"
     },
     "output_type": "display_data"
    }
   ],
   "source": [
    "acc = history.history['accuracy']\n",
    "val_acc = history.history['val_accuracy']\n",
    "\n",
    "loss = history.history['loss']\n",
    "val_loss = history.history['val_loss']\n",
    "\n",
    "epochs_range = range(epochs)\n",
    "\n",
    "plt.figure(figsize=(8, 8))\n",
    "plt.subplot(1, 2, 1)\n",
    "plt.plot(epochs_range, acc, label='Training Accuracy')\n",
    "plt.plot(epochs_range, val_acc, label='Validation Accuracy')\n",
    "plt.legend(loc='lower right')\n",
    "plt.title('Training and Validation Accuracy')\n",
    "\n",
    "plt.subplot(1, 2, 2)\n",
    "plt.plot(epochs_range, loss, label='Training Loss')\n",
    "plt.plot(epochs_range, val_loss, label='Validation Loss')\n",
    "plt.legend(loc='upper right')\n",
    "plt.title('Training and Validation Loss')\n"
   ]
  },
  {
   "cell_type": "code",
   "execution_count": 180,
   "metadata": {},
   "outputs": [],
   "source": [
    "# Metodo para devolver o caminho completo das imagens\n",
    "def getListCaminho(dir):\n",
    "    list = []\n",
    "    for pastaAtual, subPastas, arquivos in os.walk(dir):\n",
    "        for item in arquivos:\n",
    "            list.append(item)\n",
    "    return list"
   ]
  },
  {
   "cell_type": "code",
   "execution_count": 184,
   "metadata": {},
   "outputs": [
    {
     "name": "stdout",
     "output_type": "stream",
     "text": [
      "Imagem c_1.jpg classsificada como Identidade_dados com 100.00 de probabilidade\n",
      "Imagem c_2.jpg classsificada como Identidade_dados com 100.00 de probabilidade\n",
      "Imagem c_3.jpg classsificada como Identidade_dados com 100.00 de probabilidade\n",
      "Imagem c_4.jpg classsificada como Identidade_dados com 100.00 de probabilidade\n",
      "Imagem c_5.jpg classsificada como Identidade_dados com 100.00 de probabilidade\n",
      "Imagem dadosIdentidade.jpg classsificada como Identidade_dados com 99.55 de probabilidade\n"
     ]
    }
   ],
   "source": [
    "# Lêr o diretorio \n",
    "files = getListCaminho(\"analise/dadosIdentidade/\") \n",
    "\n",
    "# Lê todos aos arquivos do diretotio \n",
    "for file in files:\n",
    "    sunflower_path = \"analise/dadosIdentidade/\"+file\n",
    "\n",
    "    img = keras.preprocessing.image.load_img(sunflower_path, target_size=(img_height, img_width))\n",
    "    img_array = keras.preprocessing.image.img_to_array(img)\n",
    "    img_array = tf.expand_dims(img_array, 0) # Create a batch\n",
    "\n",
    "    predictions = model.predict(img_array)\n",
    "    score = tf.nn.softmax(predictions[0])\n",
    "\n",
    "    print(\"Imagem {} classsificada como {} com {:.2f} de probabilidade\"\n",
    "          .format(file, class_names[np.argmax(score)], 100 * np.max(score)))"
   ]
  },
  {
   "cell_type": "code",
   "execution_count": 36,
   "metadata": {},
   "outputs": [
    {
     "name": "stdout",
     "output_type": "stream",
     "text": [
      "This image most likely belongs to cnh with a 87.39 percent confidence.\n"
     ]
    }
   ],
   "source": []
  },
  {
   "cell_type": "code",
   "execution_count": null,
   "metadata": {},
   "outputs": [],
   "source": []
  }
 ],
 "metadata": {
  "kernelspec": {
   "display_name": "Python 3",
   "language": "python",
   "name": "python3"
  },
  "language_info": {
   "codemirror_mode": {
    "name": "ipython",
    "version": 3
   },
   "file_extension": ".py",
   "mimetype": "text/x-python",
   "name": "python",
   "nbconvert_exporter": "python",
   "pygments_lexer": "ipython3",
   "version": "3.7.6"
  }
 },
 "nbformat": 4,
 "nbformat_minor": 4
}
